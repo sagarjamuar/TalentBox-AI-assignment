{
 "cells": [
  {
   "cell_type": "code",
   "execution_count": 47,
   "id": "8121cddf",
   "metadata": {},
   "outputs": [
    {
     "name": "stdout",
     "output_type": "stream",
     "text": [
      "Devi\n",
      "\n",
      "Rock-N-Roll Family\n",
      "\n",
      "Ramleela – Ajay Devgn Ke Saath\n",
      "\n",
      "Swami Ramdev - Ek Sangharsh\n",
      "\n",
      "LalBazaar\n",
      "\n",
      "Into The Wild With Bear Grylls\n",
      "\n",
      "The Great Indian Murder\n",
      "\n",
      "Rudra: The Edge of Darkness\n",
      "\n",
      "The Trial\n",
      "\n"
     ]
    }
   ],
   "source": [
    "import requests\n",
    "from bs4 import BeautifulSoup\n",
    "\n",
    "def get_filmography(actor_name):\n",
    "    actor_name_url = actor_name.replace(\" \", \"_\")\n",
    "    url = f\"https://en.wikipedia.org/wiki/{actor_name_url}_filmography\"\n",
    "\n",
    "    \n",
    "    response = requests.get(url)\n",
    "    soup = BeautifulSoup(response.text, 'html.parser')\n",
    "\n",
    "\n",
    "    tables = soup.find_all('table')\n",
    "    filmography_table = [table for table in tables if 'wikitable' in table.get('class', []) and 'plainrowheaders' in table.get('class', [])][0]\n",
    "\n",
    "\n",
    "    if not filmography_table:\n",
    "        return \"Filmography section not found or different page layout.\"\n",
    "\n",
    "    films = []\n",
    "    for row in filmography_table.find_all('tr'):\n",
    "        cells = row.find_all('th')\n",
    "        cells2 = row.find_all('td')\n",
    "\n",
    "        if len(cells) > 0:\n",
    "            film_title = cells[0].text if not cells[0].text.strip().isnumeric() else cells2[0].text\n",
    "\n",
    "            if film_title.strip()!='Year':\n",
    "                films.append(film_title)\n",
    "\n",
    "\n",
    "    return films\n",
    "\n",
    "actor_name = \"Ajay Devgn\"\n",
    "filmography = get_filmography(actor_name)\n",
    "\n",
    "for film in filmography:\n",
    "      print(film)"
   ]
  },
  {
   "cell_type": "code",
   "execution_count": null,
   "id": "2ba93472",
   "metadata": {},
   "outputs": [],
   "source": []
  }
 ],
 "metadata": {
  "kernelspec": {
   "display_name": "Python 3 (ipykernel)",
   "language": "python",
   "name": "python3"
  },
  "language_info": {
   "codemirror_mode": {
    "name": "ipython",
    "version": 3
   },
   "file_extension": ".py",
   "mimetype": "text/x-python",
   "name": "python",
   "nbconvert_exporter": "python",
   "pygments_lexer": "ipython3",
   "version": "3.11.5"
  }
 },
 "nbformat": 4,
 "nbformat_minor": 5
}
